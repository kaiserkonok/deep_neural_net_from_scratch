{
  "nbformat": 4,
  "nbformat_minor": 0,
  "metadata": {
    "colab": {
      "provenance": [],
      "gpuType": "T4",
      "authorship_tag": "ABX9TyMg89TRWcbiv19Mdn3U1aUY",
      "include_colab_link": true
    },
    "kernelspec": {
      "name": "python3",
      "display_name": "Python 3"
    },
    "language_info": {
      "name": "python"
    },
    "accelerator": "GPU"
  },
  "cells": [
    {
      "cell_type": "markdown",
      "metadata": {
        "id": "view-in-github",
        "colab_type": "text"
      },
      "source": [
        "<a href=\"https://colab.research.google.com/github/kaiserkonok/deep_neural_net_from_scratch/blob/master/Neural_Nets_from_scratch.ipynb\" target=\"_parent\"><img src=\"https://colab.research.google.com/assets/colab-badge.svg\" alt=\"Open In Colab\"/></a>"
      ]
    },
    {
      "cell_type": "code",
      "execution_count": 1,
      "metadata": {
        "id": "OY0Bn3bU8tCs"
      },
      "outputs": [],
      "source": [
        "import tensorflow as tf\n",
        "import numpy as np\n",
        "import matplotlib.pyplot as plt\n",
        "from sklearn.metrics import accuracy_score"
      ]
    },
    {
      "cell_type": "code",
      "source": [
        "(x_train, y_train), (x_test, y_test) = tf.keras.datasets.mnist.load_data()"
      ],
      "metadata": {
        "id": "weAPOBftPDNs"
      },
      "execution_count": 2,
      "outputs": []
    },
    {
      "cell_type": "code",
      "source": [
        "x_train = x_train.astype('float32') / 255\n",
        "x_test = x_test.astype('float32') / 255"
      ],
      "metadata": {
        "id": "H9QpkyCBPeRz"
      },
      "execution_count": 3,
      "outputs": []
    },
    {
      "cell_type": "code",
      "source": [
        "W1 = tf.Variable(tf.random.normal([784, 256]))\n",
        "b1 = tf.Variable(tf.zeros([256]))\n",
        "W2 = tf.Variable(tf.random.normal([256, 128]))\n",
        "b2 = tf.Variable(tf.zeros([128]))\n",
        "W3 = tf.Variable(tf.random.normal([128, 10]))\n",
        "b3 = tf.Variable(tf.zeros([10]))"
      ],
      "metadata": {
        "id": "aeMh4056PnNL"
      },
      "execution_count": 4,
      "outputs": []
    },
    {
      "cell_type": "code",
      "source": [
        "x_train.shape"
      ],
      "metadata": {
        "colab": {
          "base_uri": "https://localhost:8080/"
        },
        "id": "E7FOgUABSlA3",
        "outputId": "91c565fa-f1ce-42b2-caae-ecab8d1620fd"
      },
      "execution_count": 5,
      "outputs": [
        {
          "output_type": "execute_result",
          "data": {
            "text/plain": [
              "(60000, 28, 28)"
            ]
          },
          "metadata": {},
          "execution_count": 5
        }
      ]
    },
    {
      "cell_type": "code",
      "source": [
        "x_test.shape"
      ],
      "metadata": {
        "colab": {
          "base_uri": "https://localhost:8080/"
        },
        "id": "7J9PpfTTTCkX",
        "outputId": "df8375b2-84a0-46c1-a974-030e0e38107d"
      },
      "execution_count": 6,
      "outputs": [
        {
          "output_type": "execute_result",
          "data": {
            "text/plain": [
              "(10000, 28, 28)"
            ]
          },
          "metadata": {},
          "execution_count": 6
        }
      ]
    },
    {
      "cell_type": "code",
      "source": [
        "x_train = x_train.reshape(-1, 784)\n",
        "x_test = x_test.reshape(-1, 784)"
      ],
      "metadata": {
        "id": "754DfGtWTWkT"
      },
      "execution_count": 7,
      "outputs": []
    },
    {
      "cell_type": "code",
      "source": [
        "x_train.shape"
      ],
      "metadata": {
        "colab": {
          "base_uri": "https://localhost:8080/"
        },
        "id": "q-VvsTLqTovw",
        "outputId": "365b5520-477f-43c6-87bb-4a19d504ec02"
      },
      "execution_count": 8,
      "outputs": [
        {
          "output_type": "execute_result",
          "data": {
            "text/plain": [
              "(60000, 784)"
            ]
          },
          "metadata": {},
          "execution_count": 8
        }
      ]
    },
    {
      "cell_type": "code",
      "source": [
        "x_test.shape"
      ],
      "metadata": {
        "colab": {
          "base_uri": "https://localhost:8080/"
        },
        "id": "SLBEYnn3Tp6e",
        "outputId": "455d350d-b41d-4c82-c2e6-cfd079db289e"
      },
      "execution_count": 9,
      "outputs": [
        {
          "output_type": "execute_result",
          "data": {
            "text/plain": [
              "(10000, 784)"
            ]
          },
          "metadata": {},
          "execution_count": 9
        }
      ]
    },
    {
      "cell_type": "code",
      "source": [
        "def forward(x):\n",
        "  Z1 = tf.matmul(x, W1) + b1\n",
        "  A1 = tf.nn.sigmoid(Z1)\n",
        "  Z2 = tf.matmul(A1, W2) + b2\n",
        "  A2 = tf.nn.sigmoid(Z2)\n",
        "  Z3 = tf.matmul(A2, W3) + b3\n",
        "  output = tf.nn.softmax(Z3)\n",
        "\n",
        "  return output"
      ],
      "metadata": {
        "id": "8syczkgDTr1u"
      },
      "execution_count": 10,
      "outputs": []
    },
    {
      "cell_type": "code",
      "source": [
        "forward(x_train)"
      ],
      "metadata": {
        "colab": {
          "base_uri": "https://localhost:8080/"
        },
        "id": "y2udSs2AUjqm",
        "outputId": "119879cf-c3b0-4c8a-8099-04e50043d3e0"
      },
      "execution_count": 11,
      "outputs": [
        {
          "output_type": "execute_result",
          "data": {
            "text/plain": [
              "<tf.Tensor: shape=(60000, 10), dtype=float32, numpy=\n",
              "array([[1.7164561e-01, 4.4948339e-01, 1.0457551e-03, ..., 3.5112008e-01,\n",
              "        2.5770089e-05, 2.6560992e-02],\n",
              "       [2.2762241e-03, 1.3402306e-02, 1.7749768e-03, ..., 2.9034346e-01,\n",
              "        1.0448974e-04, 6.9206852e-01],\n",
              "       [5.0363196e-03, 3.9597534e-02, 2.8712670e-03, ..., 7.9839617e-01,\n",
              "        3.4222790e-05, 1.5405853e-01],\n",
              "       ...,\n",
              "       [1.5831707e-06, 7.7868273e-05, 9.7998727e-06, ..., 9.2274678e-01,\n",
              "        1.7926710e-06, 7.7159166e-02],\n",
              "       [1.2402186e-03, 1.5468192e-01, 3.1013584e-03, ..., 8.3831775e-01,\n",
              "        2.8875380e-05, 2.6282109e-03],\n",
              "       [8.1761088e-03, 5.8183455e-01, 1.8597567e-01, ..., 1.3921287e-02,\n",
              "        3.8138609e-03, 2.0447516e-01]], dtype=float32)>"
            ]
          },
          "metadata": {},
          "execution_count": 11
        }
      ]
    },
    {
      "cell_type": "code",
      "source": [
        "def compute_loss(output, labels):\n",
        "  loss = tf.reduce_mean(tf.keras.losses.sparse_categorical_crossentropy(labels, output))\n",
        "  return loss"
      ],
      "metadata": {
        "id": "7P6kJRrJUmX7"
      },
      "execution_count": 12,
      "outputs": []
    },
    {
      "cell_type": "code",
      "source": [
        "optimizer = tf.keras.optimizers.Adam(learning_rate=0.001)"
      ],
      "metadata": {
        "id": "bQPFK-8IVRCZ"
      },
      "execution_count": 13,
      "outputs": []
    },
    {
      "cell_type": "code",
      "source": [
        "def train(x, y):\n",
        "  with tf.GradientTape() as tape:\n",
        "    output = forward(x)\n",
        "    loss = compute_loss(output, y)\n",
        "\n",
        "  gradients = tape.gradient(loss, [W1, b1, W2, b2, W3, b3])\n",
        "  optimizer.apply_gradients(zip(gradients, [W1, b1, W2, b2, W3, b3]))"
      ],
      "metadata": {
        "id": "F9E6gn5JVlFw"
      },
      "execution_count": 18,
      "outputs": []
    },
    {
      "cell_type": "code",
      "source": [
        "list(zip([1, 2, 3], [4, 5, 6]))"
      ],
      "metadata": {
        "colab": {
          "base_uri": "https://localhost:8080/"
        },
        "id": "yu7aSqO1V01u",
        "outputId": "4e26dbba-0b90-49f2-a07c-d1da882d9070"
      },
      "execution_count": 19,
      "outputs": [
        {
          "output_type": "execute_result",
          "data": {
            "text/plain": [
              "[(1, 4), (2, 5), (3, 6)]"
            ]
          },
          "metadata": {},
          "execution_count": 19
        }
      ]
    },
    {
      "cell_type": "code",
      "source": [
        "# prompt: implement the training with epochs part using the train function\n",
        "\n",
        "epochs = 10\n",
        "batch_size = 64\n",
        "\n",
        "for epoch in range(epochs):\n",
        "  for batch in range(x_train.shape[0] // batch_size):\n",
        "    start = batch * batch_size\n",
        "    end = (batch + 1) * batch_size\n",
        "    train(x_train[start:end], y_train[start:end])\n",
        "\n",
        "  output = forward(x_test)\n",
        "  predictions = tf.argmax(output, axis=1)\n",
        "  accuracy = accuracy_score(y_test, predictions)\n",
        "  print(\"Epoch:\", epoch, \"Accuracy:\", accuracy)"
      ],
      "metadata": {
        "colab": {
          "base_uri": "https://localhost:8080/"
        },
        "id": "NUJ4ivIuV5uA",
        "outputId": "2f6168fb-8490-46fd-9e8f-a0e9db7c53f1"
      },
      "execution_count": 20,
      "outputs": [
        {
          "output_type": "stream",
          "name": "stdout",
          "text": [
            "Epoch: 0 Accuracy: 0.8655\n",
            "Epoch: 1 Accuracy: 0.8981\n",
            "Epoch: 2 Accuracy: 0.9151\n",
            "Epoch: 3 Accuracy: 0.9242\n",
            "Epoch: 4 Accuracy: 0.9311\n",
            "Epoch: 5 Accuracy: 0.9365\n",
            "Epoch: 6 Accuracy: 0.94\n",
            "Epoch: 7 Accuracy: 0.941\n",
            "Epoch: 8 Accuracy: 0.9432\n",
            "Epoch: 9 Accuracy: 0.9467\n"
          ]
        }
      ]
    },
    {
      "cell_type": "code",
      "source": [],
      "metadata": {
        "id": "2eVl1AyNbQTg"
      },
      "execution_count": null,
      "outputs": []
    }
  ]
}